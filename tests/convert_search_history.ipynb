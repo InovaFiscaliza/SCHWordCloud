{
 "cells": [
  {
   "cell_type": "markdown",
   "id": "1b4f11dd-5945-4d18-8188-1279e9f47084",
   "metadata": {},
   "source": [
    "# Preparação do ambiente"
   ]
  },
  {
   "cell_type": "markdown",
   "id": "38e1b38f-70e3-4e9a-a98a-98c23f4d7330",
   "metadata": {},
   "source": [
    "## Bibliotecas"
   ]
  },
  {
   "cell_type": "code",
   "execution_count": 27,
   "id": "69251a2f-b05d-42cf-b929-9821e1649622",
   "metadata": {},
   "outputs": [],
   "source": [
    "import json\n",
    "from pathlib import Path\n",
    "import flatdict\n",
    "from collections import Counter\n",
    "import re\n",
    "from datetime import datetime\n",
    "import pandas as pd\n",
    "from os.path import exists, join"
   ]
  },
  {
   "cell_type": "markdown",
   "id": "09d8d2d4-0fae-4656-9775-7841c7200ad5",
   "metadata": {},
   "source": [
    "## Constantes e funções auxiliares"
   ]
  },
  {
   "cell_type": "code",
   "execution_count": 2,
   "id": "c3ddc7f6-1365-4520-a717-560884d85891",
   "metadata": {},
   "outputs": [],
   "source": [
    "# datasets home folder\n",
    "DATA_HOME = r'E:\\Data\\SCHWordCloud'"
   ]
  },
  {
   "cell_type": "code",
   "execution_count": 3,
   "id": "71cdd160-71ec-46f4-b021-2b1b88fd8fe9",
   "metadata": {},
   "outputs": [],
   "source": [
    "# number of words to extract for the word cloud\n",
    "N_WORDS = 25\n",
    "# pattern to match words with at least two characters\n",
    "TOKEN_PATTERN = re.compile(r\"\\b\\w\\w+\\b\")\n",
    "# version of the word cloud generator\n",
    "WORD_CLOUD_VERSION = 1\n",
    "# mode for the word cloud generator\n",
    "WORD_CLOUD_MODE = \"API\"\n",
    "# time format for wordcloud annotation\n",
    "ANNOTATION_TS_FORMAT = \"%d/%m/%Y %H:%M:%S\"\n",
    "# time format for json result files\n",
    "RESULT_TS_FORMAT = '%Y%m%d%H%M%S%f'"
   ]
  },
  {
   "cell_type": "code",
   "execution_count": 4,
   "id": "87c00650-77bd-43a2-b333-3771e95de09d",
   "metadata": {},
   "outputs": [],
   "source": [
    "def extract_text(items, fields_of_interest):\n",
    "    flat_content = flatdict.FlatterDict(items, delimiter=\"__\")\n",
    "    target_keys = [\n",
    "        key\n",
    "        for key in flat_content.keys()\n",
    "        for word in fields_of_interest\n",
    "        if word in key\n",
    "    ]\n",
    "    text = \" \".join([flat_content[key] for key in target_keys])\n",
    "    return text"
   ]
  },
  {
   "cell_type": "code",
   "execution_count": 5,
   "id": "778048eb-c104-492b-a66e-b1bc4af31b4d",
   "metadata": {},
   "outputs": [],
   "source": [
    "def extract_word_counts(text=None, n_words=N_WORDS):\n",
    "    # Check if the text is empty or None\n",
    "    if not text:\n",
    "        return \"\"\n",
    "    # Remove punctuation and convert to lowercase\n",
    "    tokens = [\n",
    "        token for token in TOKEN_PATTERN.findall(text.lower()) if token.isalpha()\n",
    "    ]\n",
    "\n",
    "    # Split the text into words and count occurrences\n",
    "    words_counter = Counter(tokens)\n",
    "\n",
    "    # Get the n most common words\n",
    "    common_words = words_counter.most_common(n_words)\n",
    "    wordcloud = {key: value for key, value in common_words}\n",
    "    wordcloud = json.dumps(wordcloud, ensure_ascii=False)\n",
    "\n",
    "    return wordcloud"
   ]
  },
  {
   "cell_type": "code",
   "execution_count": 6,
   "id": "961339a2-62cb-4cdf-aa36-969e163953f7",
   "metadata": {},
   "outputs": [],
   "source": [
    "def request_wordcloud_from_file(file):\n",
    "    file = Path(file).absolute()\n",
    "    filename = file.stem\n",
    "    ts, source, query, _id = filename.split('_')\n",
    "    \n",
    "    with open(file, 'r') as f:\n",
    "        content = json.load(f)\n",
    "    \n",
    "    if source == 'GOOGLE':\n",
    "        fields_of_interest = [\"title\", \"snippet\", \"og:title\", \"og:description\"]\n",
    "        if items := content.get('items'):\n",
    "            text = extract_text(items, fields_of_interest)\n",
    "        else: \n",
    "            text = ''\n",
    "    elif source == 'BING':\n",
    "        fields_of_interest = [\"name\", \"snippet\"]\n",
    "        if webpages := content.get('webPages'):\n",
    "            if items := webpages.get('value'):\n",
    "                text = extract_text(items, fields_of_interest)\n",
    "            else:\n",
    "                text = ''\n",
    "        else:\n",
    "            text = ''\n",
    "    \n",
    "    word_counts = extract_word_counts(text)\n",
    "    if word_counts == \"\":\n",
    "        situacao = -1\n",
    "    else:\n",
    "        situacao = 1\n",
    "    \n",
    "    wordcloud_info = {\n",
    "        \"metaData\": {\n",
    "            \"Version\": WORD_CLOUD_VERSION,\n",
    "            \"Source\": source,\n",
    "            \"Mode\": WORD_CLOUD_MODE,\n",
    "            \"Fields\": '',\n",
    "            \"n_words\": N_WORDS,\n",
    "        },\n",
    "        \"searchedWord\": query,\n",
    "        \"cloudOfWords\": word_counts,\n",
    "    }\n",
    "    wordcloud_info = json.dumps(wordcloud_info, ensure_ascii=False)\n",
    "    \n",
    "    wordcloud_id = _id\n",
    "    wordcloud_datahora = datetime.strptime(ts,RESULT_TS_FORMAT).strftime(ANNOTATION_TS_FORMAT)\n",
    "    wordcloud_computername = \"\"\n",
    "    wordcloud_username = \"\"\n",
    "    wordcloud_homologacao = f\"{query[:5]}-{query[5:7]}-{query[7:]}\"\n",
    "    \n",
    "    wordcloud = {\n",
    "        \"ID\": wordcloud_id,\n",
    "        \"DataHora\": wordcloud_datahora,\n",
    "        \"Computador\": wordcloud_computername,\n",
    "        \"Usuário\": wordcloud_username,\n",
    "        \"Homologação\": wordcloud_homologacao,\n",
    "        \"Atributo\": \"WordCloud\",\n",
    "        \"Valor\": wordcloud_info,\n",
    "        \"Situação\": situacao,\n",
    "    }\n",
    "    \n",
    "    return wordcloud"
   ]
  },
  {
   "cell_type": "markdown",
   "id": "62156c1a-3f2d-4fd8-87c8-caaf4827a77e",
   "metadata": {},
   "source": [
    "# Desenvolvimento"
   ]
  },
  {
   "cell_type": "markdown",
   "id": "00db5a69-95c2-42d8-a9dd-c872864350c3",
   "metadata": {},
   "source": [
    "## Leitura dos histórico de pesquisa"
   ]
  },
  {
   "cell_type": "code",
   "execution_count": 60,
   "id": "67e701af-6a6e-4ffd-837c-cfcf0281d4d7",
   "metadata": {},
   "outputs": [
    {
     "name": "stdout",
     "output_type": "stream",
     "text": [
      "CPU times: total: 15.8 s\n",
      "Wall time: 2min 38s\n"
     ]
    },
    {
     "data": {
      "text/html": [
       "<div>\n",
       "<style scoped>\n",
       "    .dataframe tbody tr th:only-of-type {\n",
       "        vertical-align: middle;\n",
       "    }\n",
       "\n",
       "    .dataframe tbody tr th {\n",
       "        vertical-align: top;\n",
       "    }\n",
       "\n",
       "    .dataframe thead th {\n",
       "        text-align: right;\n",
       "    }\n",
       "</style>\n",
       "<table border=\"1\" class=\"dataframe\">\n",
       "  <thead>\n",
       "    <tr style=\"text-align: right;\">\n",
       "      <th></th>\n",
       "      <th>raw_contents</th>\n",
       "    </tr>\n",
       "  </thead>\n",
       "  <tbody>\n",
       "    <tr>\n",
       "      <th>0</th>\n",
       "      <td>{\"kind\": \"customsearch#search\", \"url\": {\"type\"...</td>\n",
       "    </tr>\n",
       "    <tr>\n",
       "      <th>1</th>\n",
       "      <td>{\"kind\": \"customsearch#search\", \"url\": {\"type\"...</td>\n",
       "    </tr>\n",
       "    <tr>\n",
       "      <th>2</th>\n",
       "      <td>{\"kind\": \"customsearch#search\", \"url\": {\"type\"...</td>\n",
       "    </tr>\n",
       "    <tr>\n",
       "      <th>3</th>\n",
       "      <td>{\"kind\": \"customsearch#search\", \"url\": {\"type\"...</td>\n",
       "    </tr>\n",
       "    <tr>\n",
       "      <th>4</th>\n",
       "      <td>{\"kind\": \"customsearch#search\", \"url\": {\"type\"...</td>\n",
       "    </tr>\n",
       "    <tr>\n",
       "      <th>...</th>\n",
       "      <td>...</td>\n",
       "    </tr>\n",
       "    <tr>\n",
       "      <th>46307</th>\n",
       "      <td>{\"kind\": \"customsearch#search\", \"url\": {\"type\"...</td>\n",
       "    </tr>\n",
       "    <tr>\n",
       "      <th>46308</th>\n",
       "      <td>{\"kind\": \"customsearch#search\", \"url\": {\"type\"...</td>\n",
       "    </tr>\n",
       "    <tr>\n",
       "      <th>46309</th>\n",
       "      <td>{\"kind\": \"customsearch#search\", \"url\": {\"type\"...</td>\n",
       "    </tr>\n",
       "    <tr>\n",
       "      <th>46310</th>\n",
       "      <td>{\"kind\": \"customsearch#search\", \"url\": {\"type\"...</td>\n",
       "    </tr>\n",
       "    <tr>\n",
       "      <th>46311</th>\n",
       "      <td>{\"kind\": \"customsearch#search\", \"url\": {\"type\"...</td>\n",
       "    </tr>\n",
       "  </tbody>\n",
       "</table>\n",
       "<p>46312 rows × 1 columns</p>\n",
       "</div>"
      ],
      "text/plain": [
       "                                            raw_contents\n",
       "0      {\"kind\": \"customsearch#search\", \"url\": {\"type\"...\n",
       "1      {\"kind\": \"customsearch#search\", \"url\": {\"type\"...\n",
       "2      {\"kind\": \"customsearch#search\", \"url\": {\"type\"...\n",
       "3      {\"kind\": \"customsearch#search\", \"url\": {\"type\"...\n",
       "4      {\"kind\": \"customsearch#search\", \"url\": {\"type\"...\n",
       "...                                                  ...\n",
       "46307  {\"kind\": \"customsearch#search\", \"url\": {\"type\"...\n",
       "46308  {\"kind\": \"customsearch#search\", \"url\": {\"type\"...\n",
       "46309  {\"kind\": \"customsearch#search\", \"url\": {\"type\"...\n",
       "46310  {\"kind\": \"customsearch#search\", \"url\": {\"type\"...\n",
       "46311  {\"kind\": \"customsearch#search\", \"url\": {\"type\"...\n",
       "\n",
       "[46312 rows x 1 columns]"
      ]
     },
     "execution_count": 60,
     "metadata": {},
     "output_type": "execute_result"
    }
   ],
   "source": [
    "%%time\n",
    "search_history_folder = Path(DATA_HOME) / 'search_history'\n",
    "search_history_files = [file for file in search_history_folder.glob('*.json')]\n",
    "search_history_parquet = Path(DATA_HOME) / 'search_history.parquet'\n",
    "\n",
    "# save all search results history in a single parquet file\n",
    "results = []\n",
    "for file in search_history_files: \n",
    "    with open(file) as f:\n",
    "        result = json.load(f)\n",
    "        result_string = json.dumps(result)\n",
    "        results.append(result_string)\n",
    "df_search_history = pd.DataFrame(results,columns=['raw_contents'])\n",
    "df_search_history.to_parquet(search_history_parquet)\n",
    "\n",
    "df_search_history"
   ]
  },
  {
   "cell_type": "code",
   "execution_count": 68,
   "id": "8969d850-fcb3-490f-88ad-90e37002383d",
   "metadata": {},
   "outputs": [
    {
     "data": {
      "text/plain": [
       "{'\"_type\": \"SearchResponse\"', '\"kind\": \"customsearch#search\"'}"
      ]
     },
     "execution_count": 68,
     "metadata": {},
     "output_type": "execute_result"
    }
   ],
   "source": [
    "set([s[1:].split(',')[0] for s in df_search_history.raw_contents.to_list()])"
   ]
  },
  {
   "cell_type": "markdown",
   "id": "8a92ab47-52a4-4d74-b84f-8b687097a2f7",
   "metadata": {},
   "source": [
    "## Conversão para o formato do Annotation"
   ]
  },
  {
   "cell_type": "code",
   "execution_count": 22,
   "id": "ede4cbda-f7b7-4ab8-8b76-5449f8009b37",
   "metadata": {},
   "outputs": [
    {
     "data": {
      "text/html": [
       "<div>\n",
       "<style scoped>\n",
       "    .dataframe tbody tr th:only-of-type {\n",
       "        vertical-align: middle;\n",
       "    }\n",
       "\n",
       "    .dataframe tbody tr th {\n",
       "        vertical-align: top;\n",
       "    }\n",
       "\n",
       "    .dataframe thead th {\n",
       "        text-align: right;\n",
       "    }\n",
       "</style>\n",
       "<table border=\"1\" class=\"dataframe\">\n",
       "  <thead>\n",
       "    <tr style=\"text-align: right;\">\n",
       "      <th></th>\n",
       "      <th>ID</th>\n",
       "      <th>DataHora</th>\n",
       "      <th>Computador</th>\n",
       "      <th>Usuário</th>\n",
       "      <th>Homologação</th>\n",
       "      <th>Atributo</th>\n",
       "      <th>Valor</th>\n",
       "      <th>Situação</th>\n",
       "    </tr>\n",
       "  </thead>\n",
       "  <tbody>\n",
       "    <tr>\n",
       "      <th>0</th>\n",
       "      <td>08b73c58-277c-4508-a901-4762e15da37b</td>\n",
       "      <td>23/02/2024 15:01:31</td>\n",
       "      <td></td>\n",
       "      <td></td>\n",
       "      <td>02018-19-01516</td>\n",
       "      <td>WordCloud</td>\n",
       "      <td>{\"metaData\": {\"Version\": 1, \"Source\": \"GOOGLE\"...</td>\n",
       "      <td>-1</td>\n",
       "    </tr>\n",
       "    <tr>\n",
       "      <th>1</th>\n",
       "      <td>8c115561-3aec-4d87-b945-af4017e706bc</td>\n",
       "      <td>23/02/2024 15:01:31</td>\n",
       "      <td></td>\n",
       "      <td></td>\n",
       "      <td>06618-19-01516</td>\n",
       "      <td>WordCloud</td>\n",
       "      <td>{\"metaData\": {\"Version\": 1, \"Source\": \"GOOGLE\"...</td>\n",
       "      <td>-1</td>\n",
       "    </tr>\n",
       "    <tr>\n",
       "      <th>2</th>\n",
       "      <td>91574630-05f4-4ed5-a595-422ef8b9a6d8</td>\n",
       "      <td>23/02/2024 15:01:32</td>\n",
       "      <td></td>\n",
       "      <td></td>\n",
       "      <td>12303-20-01516</td>\n",
       "      <td>WordCloud</td>\n",
       "      <td>{\"metaData\": {\"Version\": 1, \"Source\": \"GOOGLE\"...</td>\n",
       "      <td>-1</td>\n",
       "    </tr>\n",
       "    <tr>\n",
       "      <th>3</th>\n",
       "      <td>4c268f8d-4e7b-4c80-8e88-17cf06b015f2</td>\n",
       "      <td>23/02/2024 15:01:32</td>\n",
       "      <td></td>\n",
       "      <td></td>\n",
       "      <td>03744-21-13015</td>\n",
       "      <td>WordCloud</td>\n",
       "      <td>{\"metaData\": {\"Version\": 1, \"Source\": \"GOOGLE\"...</td>\n",
       "      <td>1</td>\n",
       "    </tr>\n",
       "    <tr>\n",
       "      <th>4</th>\n",
       "      <td>1dd58bdc-320b-42a8-aaaf-d117110c5777</td>\n",
       "      <td>23/02/2024 15:01:33</td>\n",
       "      <td></td>\n",
       "      <td></td>\n",
       "      <td>10746-20-11685</td>\n",
       "      <td>WordCloud</td>\n",
       "      <td>{\"metaData\": {\"Version\": 1, \"Source\": \"GOOGLE\"...</td>\n",
       "      <td>-1</td>\n",
       "    </tr>\n",
       "    <tr>\n",
       "      <th>...</th>\n",
       "      <td>...</td>\n",
       "      <td>...</td>\n",
       "      <td>...</td>\n",
       "      <td>...</td>\n",
       "      <td>...</td>\n",
       "      <td>...</td>\n",
       "      <td>...</td>\n",
       "      <td>...</td>\n",
       "    </tr>\n",
       "    <tr>\n",
       "      <th>46307</th>\n",
       "      <td>361bb851-c929-4c71-a366-af3f3ec045eb</td>\n",
       "      <td>18/04/2025 16:00:11</td>\n",
       "      <td></td>\n",
       "      <td></td>\n",
       "      <td>02090-17-05479</td>\n",
       "      <td>WordCloud</td>\n",
       "      <td>{\"metaData\": {\"Version\": 1, \"Source\": \"GOOGLE\"...</td>\n",
       "      <td>-1</td>\n",
       "    </tr>\n",
       "    <tr>\n",
       "      <th>46308</th>\n",
       "      <td>810e2f1f-95ac-4283-90ee-3901e1bf8062</td>\n",
       "      <td>18/04/2025 17:00:11</td>\n",
       "      <td></td>\n",
       "      <td></td>\n",
       "      <td>01451-14-02481</td>\n",
       "      <td>WordCloud</td>\n",
       "      <td>{\"metaData\": {\"Version\": 1, \"Source\": \"GOOGLE\"...</td>\n",
       "      <td>-1</td>\n",
       "    </tr>\n",
       "    <tr>\n",
       "      <th>46309</th>\n",
       "      <td>61843468-a47f-487b-a16e-b648fd727245</td>\n",
       "      <td>18/04/2025 17:00:11</td>\n",
       "      <td></td>\n",
       "      <td></td>\n",
       "      <td>01452-14-02481</td>\n",
       "      <td>WordCloud</td>\n",
       "      <td>{\"metaData\": {\"Version\": 1, \"Source\": \"GOOGLE\"...</td>\n",
       "      <td>-1</td>\n",
       "    </tr>\n",
       "    <tr>\n",
       "      <th>46310</th>\n",
       "      <td>fcd9b48c-65fa-41cc-b15f-8a3b76210f22</td>\n",
       "      <td>18/04/2025 17:00:12</td>\n",
       "      <td></td>\n",
       "      <td></td>\n",
       "      <td>01967-16-08748</td>\n",
       "      <td>WordCloud</td>\n",
       "      <td>{\"metaData\": {\"Version\": 1, \"Source\": \"GOOGLE\"...</td>\n",
       "      <td>-1</td>\n",
       "    </tr>\n",
       "    <tr>\n",
       "      <th>46311</th>\n",
       "      <td>3584802f-1217-46db-a6cf-893ff6f1e16b</td>\n",
       "      <td>19/04/2025 02:00:13</td>\n",
       "      <td></td>\n",
       "      <td></td>\n",
       "      <td>01781-14-04316</td>\n",
       "      <td>WordCloud</td>\n",
       "      <td>{\"metaData\": {\"Version\": 1, \"Source\": \"GOOGLE\"...</td>\n",
       "      <td>-1</td>\n",
       "    </tr>\n",
       "  </tbody>\n",
       "</table>\n",
       "<p>46312 rows × 8 columns</p>\n",
       "</div>"
      ],
      "text/plain": [
       "                                         ID             DataHora Computador  \\\n",
       "0      08b73c58-277c-4508-a901-4762e15da37b  23/02/2024 15:01:31              \n",
       "1      8c115561-3aec-4d87-b945-af4017e706bc  23/02/2024 15:01:31              \n",
       "2      91574630-05f4-4ed5-a595-422ef8b9a6d8  23/02/2024 15:01:32              \n",
       "3      4c268f8d-4e7b-4c80-8e88-17cf06b015f2  23/02/2024 15:01:32              \n",
       "4      1dd58bdc-320b-42a8-aaaf-d117110c5777  23/02/2024 15:01:33              \n",
       "...                                     ...                  ...        ...   \n",
       "46307  361bb851-c929-4c71-a366-af3f3ec045eb  18/04/2025 16:00:11              \n",
       "46308  810e2f1f-95ac-4283-90ee-3901e1bf8062  18/04/2025 17:00:11              \n",
       "46309  61843468-a47f-487b-a16e-b648fd727245  18/04/2025 17:00:11              \n",
       "46310  fcd9b48c-65fa-41cc-b15f-8a3b76210f22  18/04/2025 17:00:12              \n",
       "46311  3584802f-1217-46db-a6cf-893ff6f1e16b  19/04/2025 02:00:13              \n",
       "\n",
       "      Usuário     Homologação   Atributo  \\\n",
       "0              02018-19-01516  WordCloud   \n",
       "1              06618-19-01516  WordCloud   \n",
       "2              12303-20-01516  WordCloud   \n",
       "3              03744-21-13015  WordCloud   \n",
       "4              10746-20-11685  WordCloud   \n",
       "...       ...             ...        ...   \n",
       "46307          02090-17-05479  WordCloud   \n",
       "46308          01451-14-02481  WordCloud   \n",
       "46309          01452-14-02481  WordCloud   \n",
       "46310          01967-16-08748  WordCloud   \n",
       "46311          01781-14-04316  WordCloud   \n",
       "\n",
       "                                                   Valor  Situação  \n",
       "0      {\"metaData\": {\"Version\": 1, \"Source\": \"GOOGLE\"...        -1  \n",
       "1      {\"metaData\": {\"Version\": 1, \"Source\": \"GOOGLE\"...        -1  \n",
       "2      {\"metaData\": {\"Version\": 1, \"Source\": \"GOOGLE\"...        -1  \n",
       "3      {\"metaData\": {\"Version\": 1, \"Source\": \"GOOGLE\"...         1  \n",
       "4      {\"metaData\": {\"Version\": 1, \"Source\": \"GOOGLE\"...        -1  \n",
       "...                                                  ...       ...  \n",
       "46307  {\"metaData\": {\"Version\": 1, \"Source\": \"GOOGLE\"...        -1  \n",
       "46308  {\"metaData\": {\"Version\": 1, \"Source\": \"GOOGLE\"...        -1  \n",
       "46309  {\"metaData\": {\"Version\": 1, \"Source\": \"GOOGLE\"...        -1  \n",
       "46310  {\"metaData\": {\"Version\": 1, \"Source\": \"GOOGLE\"...        -1  \n",
       "46311  {\"metaData\": {\"Version\": 1, \"Source\": \"GOOGLE\"...        -1  \n",
       "\n",
       "[46312 rows x 8 columns]"
      ]
     },
     "execution_count": 22,
     "metadata": {},
     "output_type": "execute_result"
    }
   ],
   "source": [
    "wc = [request_wordcloud_from_file(file) for file in search_history_folder.glob('*.json')]\n",
    "df = pd.DataFrame(wc)\n",
    "df"
   ]
  },
  {
   "cell_type": "code",
   "execution_count": 23,
   "id": "0f3957be-e37c-4448-81bc-2d548d1143f7",
   "metadata": {},
   "outputs": [
    {
     "name": "stdout",
     "output_type": "stream",
     "text": [
      "{\"metaData\": {\"Version\": 1, \"Source\": \"GOOGLE\", \"Mode\": \"API\", \"Fields\": \"\", \"n_words\": 25}, \"searchedWord\": \"007010803656\", \"cloudOfWords\": \"\"}\n",
      "{\"metaData\": {\"Version\": 1, \"Source\": \"GOOGLE\", \"Mode\": \"API\", \"Fields\": \"\", \"n_words\": 25}, \"searchedWord\": \"019711401693\", \"cloudOfWords\": \"\"}\n",
      "{\"metaData\": {\"Version\": 1, \"Source\": \"GOOGLE\", \"Mode\": \"API\", \"Fields\": \"\", \"n_words\": 25}, \"searchedWord\": \"052992214580\", \"cloudOfWords\": \"\"}\n",
      "{\"metaData\": {\"Version\": 1, \"Source\": \"GOOGLE\", \"Mode\": \"API\", \"Fields\": \"\", \"n_words\": 25}, \"searchedWord\": \"012012301556\", \"cloudOfWords\": \"\"}\n",
      "{\"metaData\": {\"Version\": 1, \"Source\": \"GOOGLE\", \"Mode\": \"API\", \"Fields\": \"\", \"n_words\": 25}, \"searchedWord\": \"022141203430\", \"cloudOfWords\": \"\"}\n",
      "{\"metaData\": {\"Version\": 1, \"Source\": \"GOOGLE\", \"Mode\": \"API\", \"Fields\": \"\", \"n_words\": 25}, \"searchedWord\": \"046201803817\", \"cloudOfWords\": \"\"}\n",
      "{\"metaData\": {\"Version\": 1, \"Source\": \"GOOGLE\", \"Mode\": \"API\", \"Fields\": \"\", \"n_words\": 25}, \"searchedWord\": \"076571912547\", \"cloudOfWords\": \"\"}\n",
      "{\"metaData\": {\"Version\": 1, \"Source\": \"GOOGLE\", \"Mode\": \"API\", \"Fields\": \"\", \"n_words\": 25}, \"searchedWord\": \"029661409392\", \"cloudOfWords\": \"\"}\n",
      "{\"metaData\": {\"Version\": 1, \"Source\": \"GOOGLE\", \"Mode\": \"API\", \"Fields\": \"\", \"n_words\": 25}, \"searchedWord\": \"005292002217\", \"cloudOfWords\": \"\"}\n",
      "{\"metaData\": {\"Version\": 1, \"Source\": \"GOOGLE\", \"Mode\": \"API\", \"Fields\": \"\", \"n_words\": 25}, \"searchedWord\": \"232522314103\", \"cloudOfWords\": \"\"}\n"
     ]
    }
   ],
   "source": [
    "for w in df[df['Situação']==-1]['Valor'].sample(10):\n",
    "    print(w)"
   ]
  },
  {
   "cell_type": "code",
   "execution_count": 24,
   "id": "4793e369-3306-441c-be2f-ed51a8b5ecb8",
   "metadata": {},
   "outputs": [
    {
     "name": "stderr",
     "output_type": "stream",
     "text": [
      "C:\\Users\\maxwelfreitas\\AppData\\Local\\Temp\\ipykernel_7344\\487895357.py:3: SettingWithCopyWarning: \n",
      "A value is trying to be set on a copy of a slice from a DataFrame.\n",
      "Try using .loc[row_indexer,col_indexer] = value instead\n",
      "\n",
      "See the caveats in the documentation: https://pandas.pydata.org/pandas-docs/stable/user_guide/indexing.html#returning-a-view-versus-a-copy\n",
      "  df_null['Scarab Post Order'] = -1\n"
     ]
    }
   ],
   "source": [
    "null_annotation_file = Path(DATA_HOME) / 'AnnotationNull.xlsx'\n",
    "df_null = df[df['Situação']==-1]\n",
    "df_null['Scarab Post Order'] = -1\n",
    "df_null.to_excel(null_annotation_file,index=False)"
   ]
  },
  {
   "cell_type": "markdown",
   "id": "f5f57b27-5653-4d18-9300-6f013d9b0b44",
   "metadata": {},
   "source": [
    "# Atualização do histórico de pesquisa"
   ]
  },
  {
   "cell_type": "markdown",
   "id": "84005c32-6a9e-4b02-8fbf-5ea80c5ed884",
   "metadata": {},
   "source": [
    "## Emular _cached_search_results"
   ]
  },
  {
   "cell_type": "code",
   "execution_count": 51,
   "id": "86245dd7-f9a2-484a-a8bd-3819682be015",
   "metadata": {},
   "outputs": [],
   "source": [
    "search_history_folder = Path(DATA_HOME) / 'search_history'\n",
    "search_history_files = [file for file in search_history_folder.glob('*.json')]\n",
    "search_history_parquet = Path(DATA_HOME) / 'search_history.parquet'\n",
    "\n",
    "# save all search results history in a single parquet file\n",
    "_cached_search_results = []\n",
    "for file in search_history_files[:10]: \n",
    "    with open(file) as f:\n",
    "        raw_contents = json.load(f)\n",
    "        search_result = { \n",
    "            \"query\": \"123450054321\",\n",
    "            \"status_code\": 200,\n",
    "            \"fields\": \"\",\n",
    "            \"text\": \"\",\n",
    "            \"raw_contents\": raw_contents,\n",
    "        }\n",
    "        _cached_search_results.append(search_result)"
   ]
  },
  {
   "cell_type": "code",
   "execution_count": 56,
   "id": "7b26092b-2c20-4714-96db-625f32b761ac",
   "metadata": {},
   "outputs": [
    {
     "data": {
      "text/plain": [
       "{'kind': 'customsearch#search',\n",
       " 'url': {'type': 'application/json',\n",
       "  'template': 'https://www.googleapis.com/customsearch/v1?q={searchTerms}&num={count?}&start={startIndex?}&lr={language?}&safe={safe?}&cx={cx?}&sort={sort?}&filter={filter?}&gl={gl?}&cr={cr?}&googlehost={googleHost?}&c2coff={disableCnTwTranslation?}&hq={hq?}&hl={hl?}&siteSearch={siteSearch?}&siteSearchFilter={siteSearchFilter?}&exactTerms={exactTerms?}&excludeTerms={excludeTerms?}&linkSite={linkSite?}&orTerms={orTerms?}&dateRestrict={dateRestrict?}&lowRange={lowRange?}&highRange={highRange?}&searchType={searchType}&fileType={fileType?}&rights={rights?}&imgSize={imgSize?}&imgType={imgType?}&imgColorType={imgColorType?}&imgDominantColor={imgDominantColor?}&alt=json'},\n",
       " 'queries': {'request': [{'title': 'Google Custom Search - 020181901516',\n",
       "    'searchTerms': '020181901516',\n",
       "    'count': 10,\n",
       "    'startIndex': 1,\n",
       "    'language': 'lang_pt',\n",
       "    'inputEncoding': 'utf8',\n",
       "    'outputEncoding': 'utf8',\n",
       "    'safe': 'off',\n",
       "    'cx': 'e4d9c4b82b2a44914',\n",
       "    'cr': 'countryBR'}]},\n",
       " 'searchInformation': {'searchTime': 0.106689,\n",
       "  'formattedSearchTime': '0.11',\n",
       "  'totalResults': '0',\n",
       "  'formattedTotalResults': '0'}}"
      ]
     },
     "execution_count": 56,
     "metadata": {},
     "output_type": "execute_result"
    }
   ],
   "source": [
    "_cached_search_results[0]['raw_contents']"
   ]
  },
  {
   "cell_type": "code",
   "execution_count": 59,
   "id": "cf45c8db-774e-4336-b113-18963f1b5b43",
   "metadata": {},
   "outputs": [
    {
     "name": "stdout",
     "output_type": "stream",
     "text": [
      "CPU times: total: 0 ns\n",
      "Wall time: 869 μs\n"
     ]
    },
    {
     "data": {
      "text/html": [
       "<div>\n",
       "<style scoped>\n",
       "    .dataframe tbody tr th:only-of-type {\n",
       "        vertical-align: middle;\n",
       "    }\n",
       "\n",
       "    .dataframe tbody tr th {\n",
       "        vertical-align: top;\n",
       "    }\n",
       "\n",
       "    .dataframe thead th {\n",
       "        text-align: right;\n",
       "    }\n",
       "</style>\n",
       "<table border=\"1\" class=\"dataframe\">\n",
       "  <thead>\n",
       "    <tr style=\"text-align: right;\">\n",
       "      <th></th>\n",
       "      <th>search_history</th>\n",
       "    </tr>\n",
       "  </thead>\n",
       "  <tbody>\n",
       "    <tr>\n",
       "      <th>0</th>\n",
       "      <td>{\"kind\": \"customsearch#search\", \"url\": {\"type\"...</td>\n",
       "    </tr>\n",
       "    <tr>\n",
       "      <th>1</th>\n",
       "      <td>{\"kind\": \"customsearch#search\", \"url\": {\"type\"...</td>\n",
       "    </tr>\n",
       "    <tr>\n",
       "      <th>2</th>\n",
       "      <td>{\"kind\": \"customsearch#search\", \"url\": {\"type\"...</td>\n",
       "    </tr>\n",
       "    <tr>\n",
       "      <th>3</th>\n",
       "      <td>{\"kind\": \"customsearch#search\", \"url\": {\"type\"...</td>\n",
       "    </tr>\n",
       "    <tr>\n",
       "      <th>4</th>\n",
       "      <td>{\"kind\": \"customsearch#search\", \"url\": {\"type\"...</td>\n",
       "    </tr>\n",
       "    <tr>\n",
       "      <th>5</th>\n",
       "      <td>{\"kind\": \"customsearch#search\", \"url\": {\"type\"...</td>\n",
       "    </tr>\n",
       "    <tr>\n",
       "      <th>6</th>\n",
       "      <td>{\"kind\": \"customsearch#search\", \"url\": {\"type\"...</td>\n",
       "    </tr>\n",
       "    <tr>\n",
       "      <th>7</th>\n",
       "      <td>{\"kind\": \"customsearch#search\", \"url\": {\"type\"...</td>\n",
       "    </tr>\n",
       "    <tr>\n",
       "      <th>8</th>\n",
       "      <td>{\"kind\": \"customsearch#search\", \"url\": {\"type\"...</td>\n",
       "    </tr>\n",
       "    <tr>\n",
       "      <th>9</th>\n",
       "      <td>{\"kind\": \"customsearch#search\", \"url\": {\"type\"...</td>\n",
       "    </tr>\n",
       "  </tbody>\n",
       "</table>\n",
       "</div>"
      ],
      "text/plain": [
       "                                      search_history\n",
       "0  {\"kind\": \"customsearch#search\", \"url\": {\"type\"...\n",
       "1  {\"kind\": \"customsearch#search\", \"url\": {\"type\"...\n",
       "2  {\"kind\": \"customsearch#search\", \"url\": {\"type\"...\n",
       "3  {\"kind\": \"customsearch#search\", \"url\": {\"type\"...\n",
       "4  {\"kind\": \"customsearch#search\", \"url\": {\"type\"...\n",
       "5  {\"kind\": \"customsearch#search\", \"url\": {\"type\"...\n",
       "6  {\"kind\": \"customsearch#search\", \"url\": {\"type\"...\n",
       "7  {\"kind\": \"customsearch#search\", \"url\": {\"type\"...\n",
       "8  {\"kind\": \"customsearch#search\", \"url\": {\"type\"...\n",
       "9  {\"kind\": \"customsearch#search\", \"url\": {\"type\"..."
      ]
     },
     "execution_count": 59,
     "metadata": {},
     "output_type": "execute_result"
    }
   ],
   "source": [
    "%%time\n",
    "search_results_data_home = r'D:\\Users\\maxwelfreitas\\OneDrive - ANATEL\\AppData\\schwordcloud\\datasets\\search_results'\n",
    "search_history_parquet = join(search_results_data_home,'search_history.parquet')\n",
    "\n",
    "# just for development, in real cenario get raw_contents from search_results\n",
    "search_result_raw_contents = [json.dumps(result['raw_contents']) for result in _cached_search_results]\n",
    "df_search_results = pd.DataFrame(search_result_raw_contents,columns=['search_history'])\n",
    "\n",
    "if exists(search_results_data_home):\n",
    "    df_search_history = pd.read_parquet(search_history_parquet)\n",
    "    df_search_results = pd.concat([df_search_history,df_search_results])\n",
    "\n",
    "if df_search_results.empty:\n",
    "    return\n",
    "\n",
    "try:  \n",
    "    df_search_results.to_parquet(search_history_parquet)\n",
    "    _cached_search_results = []\n",
    "    "
   ]
  },
  {
   "cell_type": "code",
   "execution_count": 46,
   "id": "cc3e6bfe-4432-4e3f-a1e6-e855809fd819",
   "metadata": {},
   "outputs": [
    {
     "data": {
      "text/plain": [
       "'{\"kind\": \"customsearch#search\", \"url\": {\"type\": \"application/json\", \"template\": \"https://www.googleapis.com/customsearch/v1?q={searchTerms}&num={count?}&start={startIndex?}&lr={language?}&safe={safe?}&cx={cx?}&sort={sort?}&filter={filter?}&gl={gl?}&cr={cr?}&googlehost={googleHost?}&c2coff={disableCnTwTranslation?}&hq={hq?}&hl={hl?}&siteSearch={siteSearch?}&siteSearchFilter={siteSearchFilter?}&exactTerms={exactTerms?}&excludeTerms={excludeTerms?}&linkSite={linkSite?}&orTerms={orTerms?}&dateRestrict={dateRestrict?}&lowRange={lowRange?}&highRange={highRange?}&searchType={searchType}&fileType={fileType?}&rights={rights?}&imgSize={imgSize?}&imgType={imgType?}&imgColorType={imgColorType?}&imgDominantColor={imgDominantColor?}&alt=json\"}, \"queries\": {\"request\": [{\"title\": \"Google Custom Search - 020181901516\", \"searchTerms\": \"020181901516\", \"count\": 10, \"startIndex\": 1, \"language\": \"lang_pt\", \"inputEncoding\": \"utf8\", \"outputEncoding\": \"utf8\", \"safe\": \"off\", \"cx\": \"e4d9c4b82b2a44914\", \"cr\": \"countryBR\"}]}, \"searchInformation\": {\"searchTime\": 0.106689, \"formattedSearchTime\": \"0.11\", \"totalResults\": \"0\", \"formattedTotalResults\": \"0\"}}'"
      ]
     },
     "execution_count": 46,
     "metadata": {},
     "output_type": "execute_result"
    }
   ],
   "source": [
    "results[0]"
   ]
  },
  {
   "cell_type": "code",
   "execution_count": null,
   "id": "8ee214c3-dfa0-4738-b820-fbdb198b1e4d",
   "metadata": {},
   "outputs": [],
   "source": []
  },
  {
   "cell_type": "code",
   "execution_count": null,
   "id": "c7b8079e-1d8f-4065-802d-9a098078fc64",
   "metadata": {},
   "outputs": [],
   "source": []
  }
 ],
 "metadata": {
  "kernelspec": {
   "display_name": "Python 3 (ipykernel)",
   "language": "python",
   "name": "python3"
  },
  "language_info": {
   "codemirror_mode": {
    "name": "ipython",
    "version": 3
   },
   "file_extension": ".py",
   "mimetype": "text/x-python",
   "name": "python",
   "nbconvert_exporter": "python",
   "pygments_lexer": "ipython3",
   "version": "3.13.3"
  }
 },
 "nbformat": 4,
 "nbformat_minor": 5
}

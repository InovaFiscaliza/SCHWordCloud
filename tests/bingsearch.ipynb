{
 "cells": [
  {
   "cell_type": "code",
   "execution_count": 1,
   "id": "504a1470-ceed-40cc-8554-3057bb51eceb",
   "metadata": {},
   "outputs": [],
   "source": [
    "import pandas as pd\n",
    "import schwordcloud\n",
    "from os.path import join\n",
    "import json"
   ]
  },
  {
   "cell_type": "code",
   "execution_count": null,
   "id": "28a99d8b-ebd9-4a37-93ed-9d2033e6539e",
   "metadata": {},
   "outputs": [],
   "source": []
  },
  {
   "cell_type": "code",
   "execution_count": 18,
   "id": "f0955ac6-fd7a-41af-a7f3-7cccc133405b",
   "metadata": {},
   "outputs": [
    {
     "data": {
      "text/html": [
       "<div>\n",
       "<style scoped>\n",
       "    .dataframe tbody tr th:only-of-type {\n",
       "        vertical-align: middle;\n",
       "    }\n",
       "\n",
       "    .dataframe tbody tr th {\n",
       "        vertical-align: top;\n",
       "    }\n",
       "\n",
       "    .dataframe thead th {\n",
       "        text-align: right;\n",
       "    }\n",
       "</style>\n",
       "<table border=\"1\" class=\"dataframe\">\n",
       "  <thead>\n",
       "    <tr style=\"text-align: right;\">\n",
       "      <th></th>\n",
       "      <th>raw_contents</th>\n",
       "    </tr>\n",
       "  </thead>\n",
       "  <tbody>\n",
       "    <tr>\n",
       "      <th>0</th>\n",
       "      <td>{\"kind\": \"customsearch#search\", \"url\": {\"type\"...</td>\n",
       "    </tr>\n",
       "    <tr>\n",
       "      <th>1</th>\n",
       "      <td>{\"kind\": \"customsearch#search\", \"url\": {\"type\"...</td>\n",
       "    </tr>\n",
       "    <tr>\n",
       "      <th>2</th>\n",
       "      <td>{\"kind\": \"customsearch#search\", \"url\": {\"type\"...</td>\n",
       "    </tr>\n",
       "    <tr>\n",
       "      <th>3</th>\n",
       "      <td>{\"kind\": \"customsearch#search\", \"url\": {\"type\"...</td>\n",
       "    </tr>\n",
       "    <tr>\n",
       "      <th>4</th>\n",
       "      <td>{\"kind\": \"customsearch#search\", \"url\": {\"type\"...</td>\n",
       "    </tr>\n",
       "  </tbody>\n",
       "</table>\n",
       "</div>"
      ],
      "text/plain": [
       "                                        raw_contents\n",
       "0  {\"kind\": \"customsearch#search\", \"url\": {\"type\"...\n",
       "1  {\"kind\": \"customsearch#search\", \"url\": {\"type\"...\n",
       "2  {\"kind\": \"customsearch#search\", \"url\": {\"type\"...\n",
       "3  {\"kind\": \"customsearch#search\", \"url\": {\"type\"...\n",
       "4  {\"kind\": \"customsearch#search\", \"url\": {\"type\"..."
      ]
     },
     "execution_count": 18,
     "metadata": {},
     "output_type": "execute_result"
    }
   ],
   "source": [
    "\n",
    "search_results_history = config['local_data_home']['search_results_data_home']\n",
    "search_results_history = join(search_results_history,'search_history.parquet')\n",
    "df = pd.read_parquet(search_results_history)\n",
    "df.head()"
   ]
  },
  {
   "cell_type": "code",
   "execution_count": 12,
   "id": "bea93fcf-c195-4c87-b8f0-4498539d9b0c",
   "metadata": {},
   "outputs": [
    {
     "data": {
      "text/plain": [
       "{'_type': 'SearchResponse',\n",
       " 'queryContext': {'originalQuery': '024512403030'},\n",
       " 'rankingResponse': {}}"
      ]
     },
     "execution_count": 12,
     "metadata": {},
     "output_type": "execute_result"
    }
   ],
   "source": [
    "bing_sample = [json.loads(x) for x in df.raw_contents.sample(100).to_list() if '\"_type\"' in x]\n",
    "bing_sample[0]"
   ]
  },
  {
   "cell_type": "code",
   "execution_count": 13,
   "id": "5b0297d3-489e-49c8-8760-f30ceaa22c8d",
   "metadata": {},
   "outputs": [
    {
     "data": {
      "text/plain": [
       "<schwordcloud.websearch.bing.BingSearch at 0x2006df5a850>"
      ]
     },
     "execution_count": 13,
     "metadata": {},
     "output_type": "execute_result"
    }
   ],
   "source": [
    "\n",
    "bs = schwordcloud.websearch.BingSearch(credentials)\n",
    "bs"
   ]
  },
  {
   "cell_type": "code",
   "execution_count": 14,
   "id": "8e2dc2a6-1485-4e3f-a7a4-a3cc87ca0279",
   "metadata": {},
   "outputs": [
    {
     "data": {
      "text/plain": [
       "{'query': '005981203269',\n",
       " 'status_code': 404,\n",
       " 'wordcloud': {'metaData': {'Version': 1,\n",
       "   'Source': 'BING',\n",
       "   'Mode': 'API',\n",
       "   'Fields': [],\n",
       "   'n_words': 25},\n",
       "  'searchedWord': '005981203269',\n",
       "  'cloudOfWords': ''},\n",
       " 'date_time': '03/05/2025 15:41:07',\n",
       " 'raw_contents': None}"
      ]
     },
     "execution_count": 14,
     "metadata": {},
     "output_type": "execute_result"
    }
   ],
   "source": [
    "bs.request_wordcloud('005981203269')"
   ]
  },
  {
   "cell_type": "code",
   "execution_count": 26,
   "id": "d491fa9a-df32-4092-883c-6c9effb01a9e",
   "metadata": {},
   "outputs": [
    {
     "data": {
      "text/plain": [
       "{'bing_search_api_key': '92c726c2f00a4c82af36aa601265db23',\n",
       " 'bing_search_endpoint': 'https://api.bing.microsoft.com/v7.0/search'}"
      ]
     },
     "execution_count": 26,
     "metadata": {},
     "output_type": "execute_result"
    }
   ],
   "source": [
    "config = schwordcloud.load_config_file()\n",
    "credentials = config['api_credentials']['bing_search']\n",
    "credentials"
   ]
  },
  {
   "cell_type": "code",
   "execution_count": 27,
   "id": "4139bfc9-13df-414f-87f0-9e9b27aba447",
   "metadata": {},
   "outputs": [
    {
     "ename": "HTTPError",
     "evalue": "401 Client Error: PermissionDenied for url: https://api.bing.microsoft.com/v7.0/search?q=Microsoft&mkt=en-US",
     "output_type": "error",
     "traceback": [
      "\u001b[31m---------------------------------------------------------------------------\u001b[39m",
      "\u001b[31mHTTPError\u001b[39m                                 Traceback (most recent call last)",
      "\u001b[36mCell\u001b[39m\u001b[36m \u001b[39m\u001b[32mIn[27]\u001b[39m\u001b[32m, line 34\u001b[39m\n\u001b[32m     32\u001b[39m     pprint(response.json())\n\u001b[32m     33\u001b[39m \u001b[38;5;28;01mexcept\u001b[39;00m \u001b[38;5;167;01mException\u001b[39;00m \u001b[38;5;28;01mas\u001b[39;00m ex:\n\u001b[32m---> \u001b[39m\u001b[32m34\u001b[39m     \u001b[38;5;28;01mraise\u001b[39;00m ex\n",
      "\u001b[36mCell\u001b[39m\u001b[36m \u001b[39m\u001b[32mIn[27]\u001b[39m\u001b[32m, line 26\u001b[39m\n\u001b[32m     24\u001b[39m \u001b[38;5;28;01mtry\u001b[39;00m:\n\u001b[32m     25\u001b[39m     response = requests.get(endpoint, headers=headers, params=params)\n\u001b[32m---> \u001b[39m\u001b[32m26\u001b[39m     \u001b[43mresponse\u001b[49m\u001b[43m.\u001b[49m\u001b[43mraise_for_status\u001b[49m\u001b[43m(\u001b[49m\u001b[43m)\u001b[49m\n\u001b[32m     28\u001b[39m     \u001b[38;5;28mprint\u001b[39m(\u001b[33m\"\u001b[39m\u001b[33mHeaders:\u001b[39m\u001b[33m\"\u001b[39m)\n\u001b[32m     29\u001b[39m     \u001b[38;5;28mprint\u001b[39m(response.headers)\n",
      "\u001b[36mFile \u001b[39m\u001b[32mE:\\Tools\\uv\\cache\\archive-v0\\-YGj2kL9SO_lFnI1MQc1E\\Lib\\site-packages\\requests\\models.py:1024\u001b[39m, in \u001b[36mResponse.raise_for_status\u001b[39m\u001b[34m(self)\u001b[39m\n\u001b[32m   1019\u001b[39m     http_error_msg = (\n\u001b[32m   1020\u001b[39m         \u001b[33mf\u001b[39m\u001b[33m\"\u001b[39m\u001b[38;5;132;01m{\u001b[39;00m\u001b[38;5;28mself\u001b[39m.status_code\u001b[38;5;132;01m}\u001b[39;00m\u001b[33m Server Error: \u001b[39m\u001b[38;5;132;01m{\u001b[39;00mreason\u001b[38;5;132;01m}\u001b[39;00m\u001b[33m for url: \u001b[39m\u001b[38;5;132;01m{\u001b[39;00m\u001b[38;5;28mself\u001b[39m.url\u001b[38;5;132;01m}\u001b[39;00m\u001b[33m\"\u001b[39m\n\u001b[32m   1021\u001b[39m     )\n\u001b[32m   1023\u001b[39m \u001b[38;5;28;01mif\u001b[39;00m http_error_msg:\n\u001b[32m-> \u001b[39m\u001b[32m1024\u001b[39m     \u001b[38;5;28;01mraise\u001b[39;00m HTTPError(http_error_msg, response=\u001b[38;5;28mself\u001b[39m)\n",
      "\u001b[31mHTTPError\u001b[39m: 401 Client Error: PermissionDenied for url: https://api.bing.microsoft.com/v7.0/search?q=Microsoft&mkt=en-US"
     ]
    }
   ],
   "source": [
    "import json\n",
    "import os \n",
    "from pprint import pprint\n",
    "import requests\n",
    "\n",
    "'''\n",
    "This sample makes a call to the Bing Web Search API with a query and returns relevant web search.\n",
    "Documentation: https://docs.microsoft.com/en-us/bing/search-apis/bing-web-search/overview\n",
    "'''\n",
    "\n",
    "# Add your Bing Search V7 subscription key and endpoint to your environment variables.\n",
    "subscription_key = credentials['bing_search_api_key']\n",
    "endpoint = credentials['bing_search_endpoint']\n",
    "\n",
    "# Query term(s) to search for. \n",
    "query = \"Microsoft\"\n",
    "\n",
    "# Construct a request\n",
    "mkt = 'en-US'\n",
    "params = { 'q': query, 'mkt': mkt }\n",
    "headers = { 'Ocp-Apim-Subscription-Key': subscription_key }\n",
    "\n",
    "# Call the API\n",
    "try:\n",
    "    response = requests.get(endpoint, headers=headers, params=params)\n",
    "    response.raise_for_status()\n",
    "\n",
    "    print(\"Headers:\")\n",
    "    print(response.headers)\n",
    "\n",
    "    print(\"JSON Response:\")\n",
    "    pprint(response.json())\n",
    "except Exception as ex:\n",
    "    raise ex"
   ]
  },
  {
   "cell_type": "code",
   "execution_count": null,
   "id": "a4e1d446-f5d6-40bf-b426-b2f7b94adb28",
   "metadata": {},
   "outputs": [],
   "source": []
  }
 ],
 "metadata": {
  "kernelspec": {
   "display_name": "Python 3 (ipykernel)",
   "language": "python",
   "name": "python3"
  },
  "language_info": {
   "codemirror_mode": {
    "name": "ipython",
    "version": 3
   },
   "file_extension": ".py",
   "mimetype": "text/x-python",
   "name": "python",
   "nbconvert_exporter": "python",
   "pygments_lexer": "ipython3",
   "version": "3.13.3"
  }
 },
 "nbformat": 4,
 "nbformat_minor": 5
}

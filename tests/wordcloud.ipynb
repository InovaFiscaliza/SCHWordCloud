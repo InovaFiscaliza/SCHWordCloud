{
 "cells": [
  {
   "cell_type": "code",
   "execution_count": 1,
   "id": "22f1ed5d-96f2-46c2-81fe-0b9bbe390d31",
   "metadata": {},
   "outputs": [],
   "source": [
    "from schwordcloud import load_config_file\n",
    "from schwordcloud import websearch\n",
    "from schwordcloud import datamanager\n",
    "import pandas as pd\n",
    "import json\n",
    "import random\n",
    "from pprint import pprint\n",
    "pd.options.mode.copy_on_write = True"
   ]
  },
  {
   "cell_type": "code",
   "execution_count": 2,
   "id": "e5e54609-bc07-4de9-aebd-76b8f021281a",
   "metadata": {},
   "outputs": [
    {
     "name": "stdout",
     "output_type": "stream",
     "text": [
      "{'cloud_annotation_get_folder': 'D:\\\\Users\\\\maxwelfreitas\\\\ANATEL\\\\InovaFiscaliza '\n",
      "                                '- DataHub - GET\\\\SCH',\n",
      " 'cloud_annotation_post_folder': 'D:\\\\Users\\\\maxwelfreitas\\\\ANATEL\\\\InovaFiscaliza '\n",
      "                                 '- DataHub - POST\\\\SCH'}\n",
      "{'null_annotation_file': 'C:\\\\Users\\\\maxwelfreitas\\\\AppData\\\\Local\\\\schwordcloud\\\\datasets\\\\annotation\\\\NullAnnotation.xlsx'}\n",
      "{'annotation_data_home': 'C:\\\\Users\\\\maxwelfreitas\\\\AppData\\\\Local\\\\schwordcloud\\\\datasets\\\\annotation',\n",
      " 'data_home': 'C:\\\\Users\\\\maxwelfreitas\\\\AppData\\\\Local\\\\schwordcloud\\\\datasets',\n",
      " 'sch_data_home': 'C:\\\\Users\\\\maxwelfreitas\\\\AppData\\\\Local\\\\schwordcloud\\\\datasets\\\\sch',\n",
      " 'search_results_data_home': 'C:\\\\Users\\\\maxwelfreitas\\\\AppData\\\\Local\\\\schwordcloud\\\\datasets\\\\search_results'}\n"
     ]
    }
   ],
   "source": [
    "config = load_config_file()\n",
    "credentials = config['credentials']['google_search']['maxwelfreitas']\n",
    "for key in config.keys():\n",
    "    if key != 'credentials':\n",
    "        pprint(config[key])"
   ]
  },
  {
   "cell_type": "code",
   "execution_count": 3,
   "id": "02e681e3-a51c-45a9-9d2c-134cf2640f9e",
   "metadata": {},
   "outputs": [
    {
     "data": {
      "text/html": [
       "<div>\n",
       "<style scoped>\n",
       "    .dataframe tbody tr th:only-of-type {\n",
       "        vertical-align: middle;\n",
       "    }\n",
       "\n",
       "    .dataframe tbody tr th {\n",
       "        vertical-align: top;\n",
       "    }\n",
       "\n",
       "    .dataframe thead th {\n",
       "        text-align: right;\n",
       "    }\n",
       "</style>\n",
       "<table border=\"1\" class=\"dataframe\">\n",
       "  <thead>\n",
       "    <tr style=\"text-align: right;\">\n",
       "      <th></th>\n",
       "      <th>ID</th>\n",
       "      <th>DataHora</th>\n",
       "      <th>Computador</th>\n",
       "      <th>Usuário</th>\n",
       "      <th>Homologação</th>\n",
       "      <th>Atributo</th>\n",
       "      <th>Valor</th>\n",
       "      <th>Situação</th>\n",
       "      <th>Scarab Post Order</th>\n",
       "    </tr>\n",
       "  </thead>\n",
       "  <tbody>\n",
       "    <tr>\n",
       "      <th>0</th>\n",
       "      <td>001f8c9b-c83f-488c-8bd4-fe92909a51ec</td>\n",
       "      <td>08/08/2024 11:31:59</td>\n",
       "      <td>ES6927559DTL</td>\n",
       "      <td>maxwelfreitas</td>\n",
       "      <td>03685-11-05967</td>\n",
       "      <td>WordCloud</td>\n",
       "      <td>{\"metaData\": {\"Version\": 1, \"Source\": \"BING\", ...</td>\n",
       "      <td>0</td>\n",
       "      <td>0</td>\n",
       "    </tr>\n",
       "    <tr>\n",
       "      <th>1</th>\n",
       "      <td>00225394-f4a7-4e96-8c33-d84dafefa1ac</td>\n",
       "      <td>06/10/2024 11:30:28</td>\n",
       "      <td>ES6927559DTL</td>\n",
       "      <td>maxwelfreitas</td>\n",
       "      <td>15152-21-13346</td>\n",
       "      <td>WordCloud</td>\n",
       "      <td>{\"metaData\": {\"Version\": 1, \"Source\": \"GOOGLE\"...</td>\n",
       "      <td>0</td>\n",
       "      <td>1</td>\n",
       "    </tr>\n",
       "    <tr>\n",
       "      <th>2</th>\n",
       "      <td>002562da-097d-4f53-ae34-6ae6f92e9b48</td>\n",
       "      <td>24/09/2024 11:33:24</td>\n",
       "      <td>ES6927559DTL</td>\n",
       "      <td>maxwelfreitas</td>\n",
       "      <td>00183-04-02137</td>\n",
       "      <td>WordCloud</td>\n",
       "      <td>{\"metaData\": {\"Version\": 1, \"Source\": \"BING\", ...</td>\n",
       "      <td>0</td>\n",
       "      <td>2</td>\n",
       "    </tr>\n",
       "    <tr>\n",
       "      <th>3</th>\n",
       "      <td>003c2c5c-7823-41b8-978b-85c3f859d7cf</td>\n",
       "      <td>16/11/2024 15:00:42</td>\n",
       "      <td>WIFIPRTITSIN09</td>\n",
       "      <td>admin.fiprtiwi009.s1</td>\n",
       "      <td>16422-21-06146</td>\n",
       "      <td>WordCloud</td>\n",
       "      <td>{\"metaData\": {\"Version\": 1, \"Source\": \"BING\", ...</td>\n",
       "      <td>0</td>\n",
       "      <td>3</td>\n",
       "    </tr>\n",
       "    <tr>\n",
       "      <th>4</th>\n",
       "      <td>004631d8-85b5-4dad-b6de-5a7c8bd29659</td>\n",
       "      <td>30/10/2024 05:00:22</td>\n",
       "      <td>WIFIPRTITSIN09</td>\n",
       "      <td>admin.fiprtiwi009.s1</td>\n",
       "      <td>07709-23-12298</td>\n",
       "      <td>WordCloud</td>\n",
       "      <td>{\"metaData\": {\"Version\": 1, \"Source\": \"GOOGLE\"...</td>\n",
       "      <td>0</td>\n",
       "      <td>4</td>\n",
       "    </tr>\n",
       "  </tbody>\n",
       "</table>\n",
       "</div>"
      ],
      "text/plain": [
       "                                     ID             DataHora      Computador  \\\n",
       "0  001f8c9b-c83f-488c-8bd4-fe92909a51ec  08/08/2024 11:31:59    ES6927559DTL   \n",
       "1  00225394-f4a7-4e96-8c33-d84dafefa1ac  06/10/2024 11:30:28    ES6927559DTL   \n",
       "2  002562da-097d-4f53-ae34-6ae6f92e9b48  24/09/2024 11:33:24    ES6927559DTL   \n",
       "3  003c2c5c-7823-41b8-978b-85c3f859d7cf  16/11/2024 15:00:42  WIFIPRTITSIN09   \n",
       "4  004631d8-85b5-4dad-b6de-5a7c8bd29659  30/10/2024 05:00:22  WIFIPRTITSIN09   \n",
       "\n",
       "                Usuário     Homologação   Atributo  \\\n",
       "0         maxwelfreitas  03685-11-05967  WordCloud   \n",
       "1         maxwelfreitas  15152-21-13346  WordCloud   \n",
       "2         maxwelfreitas  00183-04-02137  WordCloud   \n",
       "3  admin.fiprtiwi009.s1  16422-21-06146  WordCloud   \n",
       "4  admin.fiprtiwi009.s1  07709-23-12298  WordCloud   \n",
       "\n",
       "                                               Valor  Situação  \\\n",
       "0  {\"metaData\": {\"Version\": 1, \"Source\": \"BING\", ...         0   \n",
       "1  {\"metaData\": {\"Version\": 1, \"Source\": \"GOOGLE\"...         0   \n",
       "2  {\"metaData\": {\"Version\": 1, \"Source\": \"BING\", ...         0   \n",
       "3  {\"metaData\": {\"Version\": 1, \"Source\": \"BING\", ...         0   \n",
       "4  {\"metaData\": {\"Version\": 1, \"Source\": \"GOOGLE\"...         0   \n",
       "\n",
       "   Scarab Post Order  \n",
       "0                  0  \n",
       "1                  1  \n",
       "2                  2  \n",
       "3                  3  \n",
       "4                  4  "
      ]
     },
     "execution_count": 3,
     "metadata": {},
     "output_type": "execute_result"
    }
   ],
   "source": [
    "dm = datamanager.DataManager(config)\n",
    "dm.annotation.head()"
   ]
  },
  {
   "cell_type": "code",
   "execution_count": 4,
   "id": "ec2737f2-4d39-47ef-b058-d793f57a6d10",
   "metadata": {},
   "outputs": [
    {
     "data": {
      "text/plain": [
       "['008322505818',\n",
       " '159782205567',\n",
       " '015542408334',\n",
       " '007842510056',\n",
       " '089312414188']"
      ]
     },
     "execution_count": 4,
     "metadata": {},
     "output_type": "execute_result"
    }
   ],
   "source": [
    "to_search = dm.get_items_to_search(category=2,grace_period=0)\n",
    "random.shuffle(to_search)\n",
    "to_search[:5]"
   ]
  },
  {
   "cell_type": "code",
   "execution_count": 5,
   "id": "58efbab0-8d48-4e09-9df7-4a57f699562a",
   "metadata": {},
   "outputs": [
    {
     "data": {
      "text/plain": [
       "{'query': '045821507745',\n",
       " 'status_code': 429,\n",
       " 'wordcloud': {'metaData': {'Version': 1,\n",
       "   'Source': 'GOOGLE',\n",
       "   'Mode': 'API',\n",
       "   'Fields': [],\n",
       "   'n_words': 25},\n",
       "  'searchedWord': '045821507745',\n",
       "  'cloudOfWords': ''},\n",
       " 'date_time': '22/04/2025 22:23:44',\n",
       " 'raw_contents': None}"
      ]
     },
     "execution_count": 5,
     "metadata": {},
     "output_type": "execute_result"
    }
   ],
   "source": [
    "gs = websearch.GoogleSearch(credentials)\n",
    "gs.request_wordcloud('045821507745')"
   ]
  },
  {
   "cell_type": "code",
   "execution_count": 6,
   "id": "75911f1e-f746-4477-a9c4-8f998e8a6bbd",
   "metadata": {},
   "outputs": [
    {
     "name": "stdout",
     "output_type": "stream",
     "text": [
      "{'query': '042932414711', 'status_code': 429, 'wordcloud': {'metaData': {'Version': 1, 'Source': 'GOOGLE', 'Mode': 'API', 'Fields': [], 'n_words': 25}, 'searchedWord': '042932414711', 'cloudOfWords': ''}, 'date_time': '22/04/2025 22:23:46', 'raw_contents': None}\n"
     ]
    }
   ],
   "source": [
    "with open('results.json') as f:\n",
    "    results = json.load(f)\n",
    "for query in to_search[123:]:\n",
    "    result = gs.request_wordcloud(query)\n",
    "    if result.get('status_code') == 200:\n",
    "        results.append(result)\n",
    "    else:\n",
    "        with open('results.json','w') as f:\n",
    "            json.dump(results,f)\n",
    "        print(result)\n",
    "        break"
   ]
  },
  {
   "cell_type": "code",
   "execution_count": null,
   "id": "f36b86cc-a064-4edc-a8eb-32f9e85cd1ed",
   "metadata": {},
   "outputs": [],
   "source": []
  }
 ],
 "metadata": {
  "kernelspec": {
   "display_name": "Python 3 (ipykernel)",
   "language": "python",
   "name": "python3"
  },
  "language_info": {
   "codemirror_mode": {
    "name": "ipython",
    "version": 3
   },
   "file_extension": ".py",
   "mimetype": "text/x-python",
   "name": "python",
   "nbconvert_exporter": "python",
   "pygments_lexer": "ipython3",
   "version": "3.13.3"
  }
 },
 "nbformat": 4,
 "nbformat_minor": 5
}
